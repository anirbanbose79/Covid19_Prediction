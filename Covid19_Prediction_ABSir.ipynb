{
  "nbformat": 4,
  "nbformat_minor": 0,
  "metadata": {
    "colab": {
      "name": "Covid19_Prediction_ABSir.ipynb",
      "provenance": []
    },
    "kernelspec": {
      "name": "python3",
      "display_name": "Python 3"
    },
    "accelerator": "GPU"
  },
  "cells": [
    {
      "cell_type": "markdown",
      "metadata": {
        "id": "kuIiidoHtXdX"
      },
      "source": [
        "#**MODEL MAKING**"
      ]
    },
    {
      "cell_type": "markdown",
      "metadata": {
        "id": "G1k1mZ3Sth_Y"
      },
      "source": [
        "*Import Libraries*"
      ]
    },
    {
      "cell_type": "code",
      "metadata": {
        "id": "b71zzyz-KQnO"
      },
      "source": [
        "import matplotlib.pyplot as plt\n",
        "import numpy as np\n",
        "import os\n",
        "import PIL\n",
        "import tensorflow as tf\n",
        "\n",
        "from tensorflow import keras\n",
        "from tensorflow.keras import layers\n",
        "from tensorflow.keras.models import Sequential"
      ],
      "execution_count": null,
      "outputs": []
    },
    {
      "cell_type": "markdown",
      "metadata": {
        "id": "N2jUMa_Itx7O"
      },
      "source": [
        "*Download & Unzip Dataset*"
      ]
    },
    {
      "cell_type": "code",
      "metadata": {
        "id": "CfvPK0y5FfJ_"
      },
      "source": [
        "# Dataset : http://cb.lk/covid_19\n",
        "!wget http://cb.lk/covid_19"
      ],
      "execution_count": null,
      "outputs": []
    },
    {
      "cell_type": "code",
      "metadata": {
        "id": "AnR47ZK3FvPL"
      },
      "source": [
        "!unzip covid_19\n"
      ],
      "execution_count": null,
      "outputs": []
    },
    {
      "cell_type": "code",
      "metadata": {
        "id": "JORogiafxQpk"
      },
      "source": [
        "# Checking the total number of images\n",
        "import glob\n",
        "\n",
        "print('Train Images-',len(list(glob.glob('/content/CovidDataset/Train/*/*'))))\n",
        "print('Test Images-',len(list(glob.glob('/content/CovidDataset/Val/*/*'))))\n",
        "\n"
      ],
      "execution_count": null,
      "outputs": []
    },
    {
      "cell_type": "code",
      "metadata": {
        "id": "yXy8C_ymPgD4"
      },
      "source": [
        "# Accessing Google Drive\n",
        "from google.colab import drive\n",
        "drive.mount('/content/drive')"
      ],
      "execution_count": null,
      "outputs": []
    },
    {
      "cell_type": "code",
      "metadata": {
        "id": "z9YQOAMS1rkQ"
      },
      "source": [
        "# Save the data in google drive path\n",
        "import shutil\n",
        "source='/content/CovidDataset'\n",
        "destination=\"/content/drive/MyDrive/Data Science/Deployment/COVID19\"\n",
        "shutil.move(source, destination)\n"
      ],
      "execution_count": null,
      "outputs": []
    },
    {
      "cell_type": "code",
      "metadata": {
        "id": "VTB314jRQk5E"
      },
      "source": [
        "# Sample Image check from Covid folder contents \n",
        "import glob \n",
        "covid=list(glob.glob('/content/drive/MyDrive/Data Science/Deployment/COVID19/CovidDataset/Train/Covid/*'))\n",
        "PIL.Image.open(str(covid[0]))\n",
        "\n",
        "\n"
      ],
      "execution_count": null,
      "outputs": []
    },
    {
      "cell_type": "markdown",
      "metadata": {
        "id": "YeAQ0CaQ01-V"
      },
      "source": [
        "*Training & Validation Dataset Creation*"
      ]
    },
    {
      "cell_type": "code",
      "metadata": {
        "id": "JVjIaXSAQrsn"
      },
      "source": [
        "img_height,img_width=224,224\n",
        "batch_size=1\n",
        "# Training Dataset\n",
        "train_ds = tf.keras.preprocessing.image_dataset_from_directory(\n",
        "  '/content/drive/MyDrive/Data Science/Deployment/COVID19/CovidDataset/Train',\n",
        "  \n",
        "  image_size=(img_height, img_width),\n",
        "  batch_size=batch_size)"
      ],
      "execution_count": null,
      "outputs": []
    },
    {
      "cell_type": "code",
      "metadata": {
        "id": "KfOqRAmOQ8fN"
      },
      "source": [
        "#Validation Dataset\n",
        "val_ds = tf.keras.preprocessing.image_dataset_from_directory(\n",
        "  '/content/drive/MyDrive/Data Science/Deployment/COVID19/CovidDataset/Val',\n",
        "  image_size=(img_height, img_width),\n",
        "  batch_size=batch_size)"
      ],
      "execution_count": null,
      "outputs": []
    },
    {
      "cell_type": "markdown",
      "metadata": {
        "id": "OL93vyxS1Szc"
      },
      "source": [
        "*Classes*"
      ]
    },
    {
      "cell_type": "code",
      "metadata": {
        "id": "MOPLGaw7RUKY"
      },
      "source": [
        "#Classes Identification\n",
        "class_names = train_ds.class_names\n",
        "num_classes=len(class_names)\n",
        "print(class_names,num_classes)\n"
      ],
      "execution_count": null,
      "outputs": []
    },
    {
      "cell_type": "code",
      "metadata": {
        "id": "eKx7vGoY23EY"
      },
      "source": [
        "#VISUALIZATION\n",
        "# import matplotlib.pyplot as plt\n",
        "# image_batch, label_batch = next(iter(train_ds))# Load data by iter() & going to the next image by next()\n",
        "# plt.figure(figsize=(10, 10))\n",
        "# for i in range(9):\n",
        "#   ax = plt.subplot(3, 3, i + 1)\n",
        "#   plt.imshow(image_batch[i].numpy().astype(\"uint8\"))\n",
        "#   label = label_batch[i]\n",
        "#   plt.title(class_names[label])\n",
        "#   plt.axis(\"off\")"
      ],
      "execution_count": null,
      "outputs": []
    },
    {
      "cell_type": "markdown",
      "metadata": {
        "id": "HV8Ea3_m5VCq"
      },
      "source": [
        "*Model Making*"
      ]
    },
    {
      "cell_type": "code",
      "metadata": {
        "id": "I2SAkvPwRR8c"
      },
      "source": [
        "\n",
        "model = Sequential([\n",
        "  layers.experimental.preprocessing.Rescaling(1./255, input_shape=(img_height, img_width, 3)),\n",
        "  layers.Conv2D(16, 3, padding='same', activation='relu'),\n",
        "  layers.MaxPooling2D(),\n",
        "  layers.Conv2D(32, 3, padding='same', activation='relu'),\n",
        "  layers.MaxPooling2D(),\n",
        "  layers.Conv2D(64, 3, padding='same', activation='relu'),\n",
        "  layers.MaxPooling2D(),\n",
        "  layers.Flatten(),\n",
        "  layers.Dense(128, activation='relu'),\n",
        "  layers.Dense(num_classes,activation='softmax')\n",
        "])"
      ],
      "execution_count": null,
      "outputs": []
    },
    {
      "cell_type": "code",
      "metadata": {
        "id": "a4GzF7LIRklw"
      },
      "source": [
        "model.compile(optimizer='adam',\n",
        "              loss=tf.keras.losses.SparseCategoricalCrossentropy(from_logits=True),\n",
        "              metrics=['accuracy'])"
      ],
      "execution_count": null,
      "outputs": []
    },
    {
      "cell_type": "code",
      "metadata": {
        "id": "ERjEIVnfRnw6"
      },
      "source": [
        "epochs=10\n",
        "history = model.fit(\n",
        "  train_ds,\n",
        "  #steps_per_epoch = 100,\n",
        "  validation_data=val_ds,\n",
        "  epochs=epochs\n",
        ")"
      ],
      "execution_count": null,
      "outputs": []
    },
    {
      "cell_type": "markdown",
      "metadata": {
        "id": "7X3oQUAS-w-d"
      },
      "source": [
        "*Save Model*"
      ]
    },
    {
      "cell_type": "code",
      "metadata": {
        "id": "MTpUWUsURp4o"
      },
      "source": [
        "tf.keras.models.save_model(model,'/content/drive/MyDrive/Data Science/Deployment/COVID19/model_covid1.hdf5')"
      ],
      "execution_count": null,
      "outputs": []
    }
  ]
}